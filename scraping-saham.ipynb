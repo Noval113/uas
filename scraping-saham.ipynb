{
 "cells": [
  {
   "cell_type": "code",
   "execution_count": 68,
   "id": "a528b5c1-0fbd-42be-baae-aaea37670e6f",
   "metadata": {
    "tags": []
   },
   "outputs": [],
   "source": [
    "import requests \n",
    "from bs4 import BeautifulSoup \n",
    "import pandas as pd \n",
    "# headers = {\"cookie\": \"CONSENT=YES+cb.20240430-04-p0.en+FX+908\"\n",
    "headers = {'user-agent': 'Mozilla/5.0 (Windows NT 10.0;  Win64; x64) AppleWebKit/537.36 (KHTML, like Gecko) Chrome/84.0.4147.105 Safari/537.36'} "
   ]
  },
  {
   "cell_type": "code",
   "execution_count": 83,
   "id": "65146f02-f247-46bd-b58a-780d0420284a",
   "metadata": {
    "tags": []
   },
   "outputs": [],
   "source": [
    "urls = [\n",
    "    # 'https://www.investing.com/equities/nike',\n",
    "    # 'https://www.investing.com/equities/coca-cola-co',\n",
    "    # 'https://www.investing.com/equities/microsoft-corp',\n",
    "    # 'https://www.investing.com/equities/3m-co',\n",
    "    # 'https://www.investing.com/equities/american-express',\n",
    "    # 'https://www.investing.com/equities/amgen-inc',\n",
    "    # 'https://www.investing.com/equities/apple-computer-inc',\n",
    "    # 'https://www.investing.com/equities/boeing-co',\n",
    "    # 'https://www.investing.com/equities/cisco-sys-inc',\n",
    "    # 'https://www.investing.com/equities/goldman-sachs-group',\n",
    "    # 'https://www.investing.com/equities/ibm',\n",
    "    'https://www.investing.com/equities/intel-corp',\n",
    "    # 'https://www.investing.com/equities/jp-morgan-chase',\n",
    "    # 'https://www.investing.com/equities/mcdonalds',\n",
    "    # 'https://www.investing.com/equities/salesforce-com',\n",
    "    # 'https://www.investing.com/equities/verizon-communications',\n",
    "    # 'https://www.investing.com/equities/visa-inc',\n",
    "    # 'https://www.investing.com/equities/wal-mart-stores',\n",
    "    # 'https://www.investing.com/equities/disney',\n",
    "    ]"
   ]
  },
  {
   "cell_type": "code",
   "execution_count": 71,
   "id": "e14cfac8-a90f-45a3-8052-9069f811b516",
   "metadata": {
    "tags": []
   },
   "outputs": [
    {
     "name": "stdout",
     "output_type": "stream",
     "text": [
      "Defaulting to user installation because normal site-packages is not writeable\n",
      "Collecting cloudscraper\n",
      "  Obtaining dependency information for cloudscraper from https://files.pythonhosted.org/packages/81/97/fc88803a451029688dffd7eb446dc1b529657577aec13aceff1cc9628c5d/cloudscraper-1.2.71-py2.py3-none-any.whl.metadata\n",
      "  Downloading cloudscraper-1.2.71-py2.py3-none-any.whl.metadata (19 kB)\n",
      "Requirement already satisfied: pyparsing>=2.4.7 in c:\\programdata\\anaconda3\\lib\\site-packages (from cloudscraper) (3.0.9)\n",
      "Requirement already satisfied: requests>=2.9.2 in c:\\programdata\\anaconda3\\lib\\site-packages (from cloudscraper) (2.31.0)\n",
      "Requirement already satisfied: requests-toolbelt>=0.9.1 in c:\\programdata\\anaconda3\\lib\\site-packages (from cloudscraper) (1.0.0)\n",
      "Requirement already satisfied: charset-normalizer<4,>=2 in c:\\programdata\\anaconda3\\lib\\site-packages (from requests>=2.9.2->cloudscraper) (2.0.4)\n",
      "Requirement already satisfied: idna<4,>=2.5 in c:\\programdata\\anaconda3\\lib\\site-packages (from requests>=2.9.2->cloudscraper) (3.4)\n",
      "Requirement already satisfied: urllib3<3,>=1.21.1 in c:\\programdata\\anaconda3\\lib\\site-packages (from requests>=2.9.2->cloudscraper) (1.26.16)\n",
      "Requirement already satisfied: certifi>=2017.4.17 in c:\\programdata\\anaconda3\\lib\\site-packages (from requests>=2.9.2->cloudscraper) (2023.7.22)\n",
      "Downloading cloudscraper-1.2.71-py2.py3-none-any.whl (99 kB)\n",
      "   ---------------------------------------- 0.0/99.7 kB ? eta -:--:--\n",
      "   ------------ --------------------------- 30.7/99.7 kB 660.6 kB/s eta 0:00:01\n",
      "   ------------------------------------ --- 92.2/99.7 kB 1.3 MB/s eta 0:00:01\n",
      "   ---------------------------------------- 99.7/99.7 kB 961.4 kB/s eta 0:00:00\n",
      "Installing collected packages: cloudscraper\n",
      "Successfully installed cloudscraper-1.2.71\n"
     ]
    }
   ],
   "source": [
    "!pip install cloudscraper"
   ]
  },
  {
   "cell_type": "code",
   "execution_count": 92,
   "id": "98a1c6bf-c16b-4473-882f-4aca34a28bb4",
   "metadata": {
    "tags": []
   },
   "outputs": [
    {
     "name": "stdout",
     "output_type": "stream",
     "text": [
      "sukses\n",
      "[['Intel Corporation (INTC)', '31.36']]\n"
     ]
    }
   ],
   "source": [
    "import cloudscraper \n",
    " \n",
    "scraper = cloudscraper.create_scraper(delay=10, browser=\"chrome\") \n",
    "content = scraper.get('https://www.investing.com/equities/intel-corp').text \n",
    "all = []\n",
    "print(\"sukses\")\n",
    "\n",
    "try: \n",
    "    soup = BeautifulSoup(content,'html.parser') \n",
    "    # print(soup.prettify())\n",
    "    company = soup.find('h1', {'class':'mb-2.5 text-left text-xl font-bold leading-7 text-[#232526] md:mb-2 md:text-3xl md:leading-8 rtl:soft-ltr'}).text\n",
    "    price = soup.find('div', {'class':'text-5xl/9 font-bold text-[#232526] md:text-[42px] md:leading-[60px]'}).text \n",
    "    # change = soup.find('div', {'class':'instrument-price_instrument-price__xfgbB flex items-end flex-wrap font-bold'}).find_all('span')[2].text \n",
    "    # volume = soup.find('div',{'class':'trading-hours_value__5_NnB'}).text \n",
    "    x= [company, price] #, price] #,price,change,volume] \n",
    "    all.append(x) \n",
    "    print(all)\n",
    "# <h1 class=\"mb-2.5 text-left text-xl font-bold leading-7 text-[#232526] md:mb-2 md:text-3xl md:leading-8 rtl:soft-ltr\">McDonald’s Corporation (MCD)</h1>\n",
    "except AttributeError: \n",
    "    print(\"Change the Element id\")"
   ]
  },
  {
   "cell_type": "code",
   "execution_count": 80,
   "id": "61ac8db8-b6d0-41ec-83d6-3cd2a01f5369",
   "metadata": {
    "tags": []
   },
   "outputs": [
    {
     "name": "stdout",
     "output_type": "stream",
     "text": [
      "page kebaca\n",
      "<!DOCTYPE html>\n",
      "<!--[if lt IE 7]> <html class=\"no-js ie6 oldie\" lang=\"en-US\"> <![endif]-->\n",
      "<!--[if IE 7]>    <html class=\"no-js ie7 oldie\" lang=\"en-US\"> <![endif]-->\n",
      "<!--[if IE 8]>    <html class=\"no-js ie8 oldie\" lang=\"en-US\"> <![endif]-->\n",
      "<!--[if gt IE 8]><!-->\n",
      "<html class=\"no-js\" lang=\"en-US\">\n",
      " <!--<![endif]-->\n",
      " <head>\n",
      "  <title>\n",
      "   Attention Required! | Cloudflare\n",
      "  </title>\n",
      "  <meta charset=\"utf-8\"/>\n",
      "  <meta content=\"text/html; charset=utf-8\" http-equiv=\"Content-Type\"/>\n",
      "  <meta content=\"IE=Edge\" http-equiv=\"X-UA-Compatible\"/>\n",
      "  <meta content=\"noindex, nofollow\" name=\"robots\"/>\n",
      "  <meta content=\"width=device-width,initial-scale=1\" name=\"viewport\"/>\n",
      "  <link href=\"/cdn-cgi/styles/cf.errors.css\" id=\"cf_styles-css\" rel=\"stylesheet\"/>\n",
      "  <!--[if lt IE 9]><link rel=\"stylesheet\" id='cf_styles-ie-css' href=\"/cdn-cgi/styles/cf.errors.ie.css\" /><![endif]-->\n",
      "  <style>\n",
      "   body{margin:0;padding:0}\n",
      "  </style>\n",
      "  <!--[if gte IE 10]><!-->\n",
      "  <script>\n",
      "   if (!navigator.cookieEnabled) {\n",
      "    window.addEventListener('DOMContentLoaded', function () {\n",
      "      var cookieEl = document.getElementById('cookie-alert');\n",
      "      cookieEl.style.display = 'block';\n",
      "    })\n",
      "  }\n",
      "  </script>\n",
      "  <!--<![endif]-->\n",
      " </head>\n",
      " <body>\n",
      "  <div id=\"cf-wrapper\">\n",
      "   <div class=\"cf-alert cf-alert-error cf-cookie-error\" data-translate=\"enable_cookies\" id=\"cookie-alert\">\n",
      "    Please enable cookies.\n",
      "   </div>\n",
      "   <div class=\"cf-error-details-wrapper\" id=\"cf-error-details\">\n",
      "    <div class=\"cf-wrapper cf-header cf-error-overview\">\n",
      "     <h1 data-translate=\"block_headline\">\n",
      "      Sorry, you have been blocked\n",
      "     </h1>\n",
      "     <h2 class=\"cf-subheadline\">\n",
      "      <span data-translate=\"unable_to_access\">\n",
      "       You are unable to access\n",
      "      </span>\n",
      "      investing.com\n",
      "     </h2>\n",
      "    </div>\n",
      "    <!-- /.header -->\n",
      "    <div class=\"cf-section cf-highlight\">\n",
      "     <div class=\"cf-wrapper\">\n",
      "      <div class=\"cf-screenshot-container cf-screenshot-full\">\n",
      "       <span class=\"cf-no-screenshot error\">\n",
      "       </span>\n",
      "      </div>\n",
      "     </div>\n",
      "    </div>\n",
      "    <!-- /.captcha-container -->\n",
      "    <div class=\"cf-section cf-wrapper\">\n",
      "     <div class=\"cf-columns two\">\n",
      "      <div class=\"cf-column\">\n",
      "       <h2 data-translate=\"blocked_why_headline\">\n",
      "        Why have I been blocked?\n",
      "       </h2>\n",
      "       <p data-translate=\"blocked_why_detail\">\n",
      "        This website is using a security service to protect itself from online attacks. The action you just performed triggered the security solution. There are several actions that could trigger this block including submitting a certain word or phrase, a SQL command or malformed data.\n",
      "       </p>\n",
      "      </div>\n",
      "      <div class=\"cf-column\">\n",
      "       <h2 data-translate=\"blocked_resolve_headline\">\n",
      "        What can I do to resolve this?\n",
      "       </h2>\n",
      "       <p data-translate=\"blocked_resolve_detail\">\n",
      "        You can email the site owner to let them know you were blocked. Please include what you were doing when this page came up and the Cloudflare Ray ID found at the bottom of this page.\n",
      "       </p>\n",
      "      </div>\n",
      "     </div>\n",
      "    </div>\n",
      "    <!-- /.section -->\n",
      "    <div class=\"cf-error-footer cf-wrapper w-240 lg:w-full py-10 sm:py-4 sm:px-8 mx-auto text-center sm:text-left border-solid border-0 border-t border-gray-300\">\n",
      "     <p class=\"text-13\">\n",
      "      <span class=\"cf-footer-item sm:block sm:mb-1\">\n",
      "       Cloudflare Ray ID:\n",
      "       <strong class=\"font-semibold\">\n",
      "        87c4b796a978a8d2\n",
      "       </strong>\n",
      "      </span>\n",
      "      <span class=\"cf-footer-separator sm:hidden\">\n",
      "       •\n",
      "      </span>\n",
      "      <span class=\"cf-footer-item hidden sm:block sm:mb-1\" id=\"cf-footer-item-ip\">\n",
      "       Your IP:\n",
      "       <button class=\"cf-footer-ip-reveal-btn\" id=\"cf-footer-ip-reveal\" type=\"button\">\n",
      "        Click to reveal\n",
      "       </button>\n",
      "       <span class=\"hidden\" id=\"cf-footer-ip\">\n",
      "        114.5.89.178\n",
      "       </span>\n",
      "       <span class=\"cf-footer-separator sm:hidden\">\n",
      "        •\n",
      "       </span>\n",
      "      </span>\n",
      "      <span class=\"cf-footer-item sm:block sm:mb-1\">\n",
      "       <span>\n",
      "        Performance &amp; security by\n",
      "       </span>\n",
      "       <a href=\"https://www.cloudflare.com/5xx-error-landing\" id=\"brand_link\" rel=\"noopener noreferrer\" target=\"_blank\">\n",
      "        Cloudflare\n",
      "       </a>\n",
      "      </span>\n",
      "     </p>\n",
      "     <script>\n",
      "      (function(){function d(){var b=a.getElementById(\"cf-footer-item-ip\"),c=a.getElementById(\"cf-footer-ip-reveal\");b&&\"classList\"in b&&(b.classList.remove(\"hidden\"),c.addEventListener(\"click\",function(){c.classList.add(\"hidden\");a.getElementById(\"cf-footer-ip\").classList.remove(\"hidden\")}))}var a=document;document.addEventListener&&a.addEventListener(\"DOMContentLoaded\",d)})();\n",
      "     </script>\n",
      "    </div>\n",
      "    <!-- /.error-footer -->\n",
      "   </div>\n",
      "   <!-- /#cf-error-details -->\n",
      "  </div>\n",
      "  <!-- /#cf-wrapper -->\n",
      "  <script>\n",
      "   window._cf_translation = {};\n",
      "  </script>\n",
      "  <script>\n",
      "   (function(){if (!document.body) return;var js = \"window['__CF$cv$params']={r:'87c4b796a978a8d2',t:'MTcxNDQ1MDU5NC4zNTYwMDA='};_cpo=document.createElement('script');_cpo.nonce='',_cpo.src='/cdn-cgi/challenge-platform/scripts/jsd/main.js',document.getElementsByTagName('head')[0].appendChild(_cpo);\";var _0xh = document.createElement('iframe');_0xh.height = 1;_0xh.width = 1;_0xh.style.position = 'absolute';_0xh.style.top = 0;_0xh.style.left = 0;_0xh.style.border = 'none';_0xh.style.visibility = 'hidden';document.body.appendChild(_0xh);function handler() {var _0xi = _0xh.contentDocument || _0xh.contentWindow.document;if (_0xi) {var _0xj = _0xi.createElement('script');_0xj.innerHTML = js;_0xi.getElementsByTagName('head')[0].appendChild(_0xj);}}if (document.readyState !== 'loading') {handler();} else if (window.addEventListener) {document.addEventListener('DOMContentLoaded', handler);} else {var prev = document.onreadystatechange || function () {};document.onreadystatechange = function (e) {prev(e);if (document.readyState !== 'loading') {document.onreadystatechange = prev;handler();}};}})();\n",
      "  </script>\n",
      " </body>\n",
      "</html>\n",
      "\n",
      "Change the Element id\n"
     ]
    }
   ],
   "source": [
    "all=[] \n",
    "for url in urls:\n",
    "    page = requests.get(url,headers=headers) \n",
    "    print(\"page kebaca\")\n",
    "    try: \n",
    "        soup = BeautifulSoup(page.text,'html.parser') \n",
    "        print(soup.prettify())\n",
    "        company = soup.find('h1', {'class':'mb-2.5 text-left text-xl font-bold leading-7 text-[#232526] md:mb-2 md:text-3xl md:leading-8 rtl:soft-ltr'}).text\n",
    "        # price = soup.find('div', {'class':'instrument-price_instrument-price__xfgbB flex items-end flex-wrap font-bold'}).find_all('span')[0].text \n",
    "        # change = soup.find('div', {'class':'instrument-price_instrument-price__xfgbB flex items-end flex-wrap font-bold'}).find_all('span')[2].text \n",
    "        # volume = soup.find('div',{'class':'trading-hours_value__5_NnB'}).text \n",
    "        # x= [company] #,price,change,volume] \n",
    "        # all.append(x) \n",
    "# <h1 class=\"mb-2.5 text-left text-xl font-bold leading-7 text-[#232526] md:mb-2 md:text-3xl md:leading-8 rtl:soft-ltr\">McDonald’s Corporation (MCD)</h1>\n",
    "    except AttributeError: \n",
    "        print(\"Change the Element id\")\n",
    "\n",
    "# print(all)"
   ]
  },
  {
   "cell_type": "code",
   "execution_count": 81,
   "id": "1d204681-f135-468d-9feb-c9670f29f68b",
   "metadata": {
    "tags": []
   },
   "outputs": [
    {
     "name": "stdout",
     "output_type": "stream",
     "text": [
      "jumlah match:  1\n",
      "['McDonald’s Corporation (MCD)']\n"
     ]
    }
   ],
   "source": [
    "url = \"D:\\Kuliah\\DATA VISUALIZATION\\Python Projects\\Webpages\\McDonald's Stock Price Today _ NYSE MCD Live Ticker - Investing.com.html.html\"\n",
    "# page = requests.get(url,headers=headers) \n",
    "# page = open(url)\n",
    "all = []\n",
    "file = open(url, \"r\", encoding=\"utf-8\") \n",
    "  \n",
    "# Reading the file and storing in a variable \n",
    "contents = file.read() \n",
    "  \n",
    "# Creating a BeautifulSoup object and \n",
    "# specifying the parser  \n",
    "soup = BeautifulSoup(contents, 'html.parser') \n",
    "\n",
    "\n",
    "try: \n",
    "    # soup = BeautifulSoup(page.text,'html.parser') \n",
    "    company = soup.find('h1', {'class':'mb-2.5 text-left text-xl font-bold leading-7 text-[#232526] md:mb-2 md:text-3xl md:leading-8 rtl:soft-ltr'}).text\n",
    "    # price = soup.find('div', {'class':'instrument-price_instrument-price__xfgbB flex items-end flex-wrap font-bold'}).find_all('span')[0].text \n",
    "    # change = soup.find('div', {'class':'instrument-price_instrument-price__xfgbB flex items-end flex-wrap font-bold'}).find_all('span')[2].text \n",
    "    # volume = soup.find('div',{'class':'trading-hours_value__5_NnB'}).text \n",
    "    x= [company] #,price,change,volume] \n",
    "    all.append(x) \n",
    "# <h1 class=\"mb-2.5 text-left text-xl font-bold leading-7 text-[#232526] md:mb-2 md:text-3xl md:leading-8 rtl:soft-ltr\">McDonald’s Corporation (MCD)</h1>\n",
    "except AttributeError: \n",
    "    print(\"Gagal mencari attribute\")\n",
    "\n",
    "print(\"jumlah match: \", len(all))\n",
    "for a in all:\n",
    "    print(a)"
   ]
  }
 ],
 "metadata": {
  "kernelspec": {
   "display_name": "Python 3 (ipykernel)",
   "language": "python",
   "name": "python3"
  },
  "language_info": {
   "codemirror_mode": {
    "name": "ipython",
    "version": 3
   },
   "file_extension": ".py",
   "mimetype": "text/x-python",
   "name": "python",
   "nbconvert_exporter": "python",
   "pygments_lexer": "ipython3",
   "version": "3.11.5"
  }
 },
 "nbformat": 4,
 "nbformat_minor": 5
}
